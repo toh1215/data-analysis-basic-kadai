# -*- coding: utf-8 -*-
"""
Created on Sun May 19 12:58:37 2024

@author: ttoh1
"""

#%%
import numpy as np

A = np.array([[0, 1], [2, 3], [4, 5]])
B = np.array([[0, 1, 2, 3], [4, 5, 6, 7]])

C = np.dot(A, B)
print(C)

print(C.max())

