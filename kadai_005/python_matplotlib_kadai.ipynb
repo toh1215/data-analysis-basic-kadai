# -*- coding: utf-8 -*-
"""
Created on Sun May 19 16:09:23 2024

@author: ttoh1
"""

import matplotlib as mlt
import numpy as np

fig, axes = plt.subplots(2, 0, tight_layout = True)

#折れ線グラフ
y0 = [1, 2, -5, 2]
axes[0,0].plot(y0)

#sin関数
x1 = np.linspace(0, 10, 100)
y1 = 2 + 2*np.sin(2*)

axes[0,1].set(xlim = (0, 10), xticks = np.arange(0, 10),
         ylim = (-1, 5), yticks = np. arange(-1, 6))
axes[0,1].plot(x, y, linewidth 2.0)





